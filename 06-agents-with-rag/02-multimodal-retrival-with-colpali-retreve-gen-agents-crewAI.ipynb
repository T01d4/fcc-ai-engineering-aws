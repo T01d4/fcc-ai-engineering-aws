{
 "cells": [
  {
   "cell_type": "markdown",
   "metadata": {},
   "source": [
    "<h1 style=\"background: linear-gradient(to right, #ff6b6b, #4ecdc4); \n",
    "           color: white; \n",
    "           padding: 20px; \n",
    "           border-radius: 10px; \n",
    "           text-align: center; \n",
    "           font-family: Arial, sans-serif; \n",
    "           text-shadow: 2px 2px 4px rgba(0,0,0,0.5);\">\n",
    "  Multimodal RAG with Document Retrieval (ColPali), Amazon Nova and CrewAI\n",
    "</h1>."
   ]
  },
  {
   "cell_type": "markdown",
   "metadata": {},
   "source": [
    "![Agentic RAG](./Multimodal-RAG.png)"
   ]
  },
  {
   "cell_type": "code",
   "execution_count": null,
   "metadata": {},
   "outputs": [],
   "source": [
    "# %pip install colpali-engine torch boto3 tqdm pymupdf numpy matplotlib einops seaborn -q\n",
    "# %pip install boto3==1.34.162 botocore==1.34.162 crewai==0.70.1 crewai_tools==0.12.1 duckduckgo-search==6.3.1 PyPDF2==3.0.1 -q "
   ]
  },
  {
   "cell_type": "code",
   "execution_count": 1,
   "metadata": {},
   "outputs": [
    {
     "name": "stderr",
     "output_type": "stream",
     "text": [
      "/opt/anaconda3/envs/rag_env2/lib/python3.12/site-packages/pydantic/_internal/_config.py:295: PydanticDeprecatedSince20: Support for class-based `config` is deprecated, use ConfigDict instead. Deprecated in Pydantic V2.0 to be removed in V3.0. See Pydantic V2 Migration Guide at https://errors.pydantic.dev/2.10/migration/\n",
      "  warnings.warn(DEPRECATION_MESSAGE, DeprecationWarning)\n"
     ]
    }
   ],
   "source": [
    "import requests\n",
    "import os\n",
    "import torch\n",
    "import qdrant_client\n",
    "import time\n",
    "import shutil\n",
    "import boto3\n",
    "import os\n",
    "\n",
    "from huggingface_hub import login\n",
    "from dotenv import load_dotenv\n",
    "from colpali_engine.models import ColPali, ColPaliProcessor\n",
    "from pdf2image import convert_from_path\n",
    "from qdrant_client.http import models\n",
    "from tqdm import tqdm\n",
    "from matplotlib import pyplot as plt\n",
    "from PIL import Image\n",
    "from crewai import Agent, Task, Crew, LLM, Process\n",
    "from crewai_tools import tool\n",
    "from IPython.display import Markdown\n"
   ]
  },
  {
   "cell_type": "markdown",
   "metadata": {},
   "source": [
    "<h1 style=\"background: linear-gradient(to right, #ff6b6b, #4ecdc4); \n",
    "           color: white; \n",
    "           padding: 20px; \n",
    "           border-radius: 10px; \n",
    "           text-align: center; \n",
    "           font-family: Arial, sans-serif; \n",
    "           text-shadow: 2px 2px 4px rgba(0,0,0,0.5);\">\n",
    "    Loading the PDF files (Dataset)\n",
    "</h1>"
   ]
  },
  {
   "cell_type": "code",
   "execution_count": 2,
   "metadata": {},
   "outputs": [],
   "source": [
    "\n",
    "# Download pdfs from different sources \n",
    "def download_pdf(pdfs, output_dir):\n",
    "    for name, url in pdfs.items():\n",
    "        response = requests.get(url)\n",
    "        pdf_path = os.path.join(output_dir, f\"{name}.pdf\")\n",
    "\n",
    "        with open(pdf_path, \"wb\") as f:\n",
    "            f.write(response.content)\n",
    "\n",
    "        print(f\"Downloaded {name} to {pdf_path}\")"
   ]
  },
  {
   "cell_type": "code",
   "execution_count": 3,
   "metadata": {},
   "outputs": [
    {
     "name": "stdout",
     "output_type": "stream",
     "text": [
      "Downloaded MALM to pdf_data/MALM.pdf\n",
      "Downloaded BILLY to pdf_data/BILLY.pdf\n",
      "Downloaded BOAXEL to pdf_data/BOAXEL.pdf\n",
      "Downloaded ADILS to pdf_data/ADILS.pdf\n",
      "Downloaded MICKE to pdf_data/MICKE.pdf\n"
     ]
    }
   ],
   "source": [
    "pdfs = {\n",
    "    \"MALM\": \"https://www.ikea.com/us/en/assembly_instructions/malm-4-drawer-chest-white__AA-2398381-2-100.pdf\",\n",
    "    \"BILLY\": \"https://www.ikea.com/us/en/assembly_instructions/billy-bookcase-white__AA-1844854-6-2.pdf\",\n",
    "    \"BOAXEL\": \"https://www.ikea.com/us/en/assembly_instructions/boaxel-wall-upright-white__AA-2341341-2-100.pdf\",\n",
    "    \"ADILS\": \"https://www.ikea.com/us/en/assembly_instructions/adils-leg-white__AA-844478-6-2.pdf\",\n",
    "    \"MICKE\": \"https://www.ikea.com/us/en/assembly_instructions/micke-desk-white__AA-476626-10-100.pdf\",\n",
    "}\n",
    "\n",
    "# Downloading the PDF files \n",
    "pdf_dir = \"pdf_data\"\n",
    "os.makedirs(pdf_dir, exist_ok=True)\n",
    "\n",
    "download_pdf(pdfs, pdf_dir)\n"
   ]
  },
  {
   "cell_type": "markdown",
   "metadata": {},
   "source": [
    "<h1 style=\"background: linear-gradient(to right, #ff6b6b, #4ecdc4); \n",
    "           color: white; \n",
    "           padding: 20px; \n",
    "           border-radius: 10px; \n",
    "           text-align: center; \n",
    "           font-family: Arial, sans-serif; \n",
    "           text-shadow: 2px 2px 4px rgba(0,0,0,0.5);\">\n",
    "  Load the ColPali Multimodal Document Retrieval Model\n",
    "</h1>"
   ]
  },
  {
   "cell_type": "code",
   "execution_count": 4,
   "metadata": {},
   "outputs": [],
   "source": [
    "# Load environment variables\n",
    "load_dotenv()\n",
    "\n",
    "# Login using token from environment variable\n",
    "login(token=os.getenv('HUGGING_FACE_TOKEN'))"
   ]
  },
  {
   "cell_type": "code",
   "execution_count": 5,
   "metadata": {},
   "outputs": [
    {
     "name": "stdout",
     "output_type": "stream",
     "text": [
      "device = 'mps'\n"
     ]
    }
   ],
   "source": [
    "# Check if CUDA/MPS/CPU is available\n",
    "device = \"cuda\" if torch.cuda.is_available() else \"mps\" if torch.backends.mps.is_available() else \"cpu\"\n",
    "print(f\"{device = }\")"
   ]
  },
  {
   "cell_type": "code",
   "execution_count": null,
   "metadata": {},
   "outputs": [],
   "source": [
    "\n",
    "model_name = \"vidore/colpali-v1.2\"\n",
    "\n",
    "colpali_model = ColPali.from_pretrained(\n",
    "                pretrained_model_name_or_path=model_name,\n",
    "                torch_dtype=torch.bfloat16,\n",
    "                device_map=device, \n",
    "                cache_dir=\"./model_cache\"\n",
    "            )\n",
    "\n",
    "colpali_processor = ColPaliProcessor.from_pretrained(\n",
    "                pretrained_model_name_or_path=model_name,\n",
    "                cache_dir=\"./model_cache\"\n",
    "            )"
   ]
  },
  {
   "cell_type": "markdown",
   "metadata": {},
   "source": [
    "<h1 style=\"background: linear-gradient(to right, #ff6b6b, #4ecdc4); \n",
    "           color: white; \n",
    "           padding: 20px; \n",
    "           border-radius: 10px; \n",
    "           text-align: center; \n",
    "           font-family: Arial, sans-serif; \n",
    "           text-shadow: 2px 2px 4px rgba(0,0,0,0.5);\">\n",
    "    Setup vector database\n",
    "</h1>"
   ]
  },
  {
   "cell_type": "markdown",
   "metadata": {},
   "source": [
    "### Run it on the shell \n",
    "\n",
    "```\n",
    "docker run -p 6333:6333 -p 6334:6334 \\\n",
    "    -v $(pwd)/qdrant_storage:/qdrant/storage:z \\\n",
    "    qdrant/qdrant\n",
    "```"
   ]
  },
  {
   "cell_type": "markdown",
   "metadata": {},
   "source": [
    "### Check the Qdrant vector database in the browser\n",
    "\n",
    "```\n",
    "http://localhost:6333/dashboard#/welcome\n",
    "```\n",
    "\n"
   ]
  },
  {
   "cell_type": "code",
   "execution_count": 12,
   "metadata": {},
   "outputs": [],
   "source": [
    "\n",
    "client = qdrant_client.QdrantClient(\n",
    "    host=\"localhost\",\n",
    "    port=6333\n",
    ")"
   ]
  },
  {
   "cell_type": "code",
   "execution_count": 13,
   "metadata": {},
   "outputs": [
    {
     "data": {
      "text/plain": [
       "VersionInfo(title='qdrant - vector search engine', version='1.13.4', commit='7abc684361fb81d8b62cf1554d8bf4fb65a706d7')"
      ]
     },
     "execution_count": 13,
     "metadata": {},
     "output_type": "execute_result"
    }
   ],
   "source": [
    "client.info()"
   ]
  },
  {
   "cell_type": "code",
   "execution_count": 14,
   "metadata": {},
   "outputs": [
    {
     "data": {
      "text/plain": [
       "True"
      ]
     },
     "execution_count": 14,
     "metadata": {},
     "output_type": "execute_result"
    }
   ],
   "source": [
    "# Collection name\n",
    "COLLECTION_NAME = \"my_collection\"\n",
    "VECTOR_SIZE = 128\n",
    "\n",
    "# Create a collection\n",
    "client.create_collection(\n",
    "    collection_name=COLLECTION_NAME,\n",
    "    on_disk_payload=True,\n",
    "    vectors_config=models.VectorParams(\n",
    "        size=VECTOR_SIZE,\n",
    "        distance=models.Distance.COSINE,\n",
    "        on_disk=True,\n",
    "        multivector_config=models.MultiVectorConfig(\n",
    "            comparator=models.MultiVectorComparator.MAX_SIM\n",
    "        ),\n",
    "    ),\n",
    ")"
   ]
  },
  {
   "cell_type": "markdown",
   "metadata": {},
   "source": [
    "Verify the collection [here](http://localhost:6333/dashboard#/collections)"
   ]
  },
  {
   "cell_type": "markdown",
   "metadata": {},
   "source": [
    "<h1 style=\"background: linear-gradient(to right, #ff6b6b, #4ecdc4); \n",
    "           color: white; \n",
    "           padding: 20px; \n",
    "           border-radius: 10px; \n",
    "           text-align: center; \n",
    "           font-family: Arial, sans-serif; \n",
    "           text-shadow: 2px 2px 4px rgba(0,0,0,0.5);\">\n",
    "  Store embeddings in vector database\n",
    "</h1>"
   ]
  },
  {
   "cell_type": "code",
   "execution_count": 15,
   "metadata": {},
   "outputs": [],
   "source": [
    "def convert_pdfs_to_images(pdf_folder, poppler_path=\"/opt/homebrew/bin\"):\n",
    "    \"\"\"Convert PDFs into a dictionary of PIL images.\"\"\"\n",
    "    pdf_files = [f for f in os.listdir(pdf_folder) if f.endswith(\".pdf\")]\n",
    "    all_images = []\n",
    "\n",
    "    for doc_id, pdf_file in enumerate(pdf_files):\n",
    "        pdf_path = os.path.join(pdf_folder, pdf_file)\n",
    "        images = convert_from_path(pdf_path, poppler_path=poppler_path)\n",
    "        \n",
    "        for page_num, image in enumerate(images):\n",
    "            all_images.append({\"doc_id\": doc_id, \"page_num\": page_num, \"image\": image.convert(\"RGB\")})\n",
    "\n",
    "    return all_images\n",
    "\n",
    "PDF_DIR = pdf_dir  # Change this to your actual folder path\n",
    "dataset = convert_pdfs_to_images(PDF_DIR)\n"
   ]
  },
  {
   "cell_type": "code",
   "execution_count": 16,
   "metadata": {},
   "outputs": [
    {
     "data": {
      "text/plain": [
       "[{'doc_id': 0,\n",
       "  'page_num': 0,\n",
       "  'image': <PIL.Image.Image image mode=RGB size=1654x2339>},\n",
       " {'doc_id': 0,\n",
       "  'page_num': 1,\n",
       "  'image': <PIL.Image.Image image mode=RGB size=1654x2339>},\n",
       " {'doc_id': 0,\n",
       "  'page_num': 2,\n",
       "  'image': <PIL.Image.Image image mode=RGB size=1654x2339>},\n",
       " {'doc_id': 0,\n",
       "  'page_num': 3,\n",
       "  'image': <PIL.Image.Image image mode=RGB size=1654x2339>},\n",
       " {'doc_id': 0,\n",
       "  'page_num': 4,\n",
       "  'image': <PIL.Image.Image image mode=RGB size=1654x2339>},\n",
       " {'doc_id': 0,\n",
       "  'page_num': 5,\n",
       "  'image': <PIL.Image.Image image mode=RGB size=1654x2339>},\n",
       " {'doc_id': 0,\n",
       "  'page_num': 6,\n",
       "  'image': <PIL.Image.Image image mode=RGB size=1654x2339>},\n",
       " {'doc_id': 0,\n",
       "  'page_num': 7,\n",
       "  'image': <PIL.Image.Image image mode=RGB size=1654x2339>},\n",
       " {'doc_id': 0,\n",
       "  'page_num': 8,\n",
       "  'image': <PIL.Image.Image image mode=RGB size=1654x2339>},\n",
       " {'doc_id': 0,\n",
       "  'page_num': 9,\n",
       "  'image': <PIL.Image.Image image mode=RGB size=1654x2339>},\n",
       " {'doc_id': 0,\n",
       "  'page_num': 10,\n",
       "  'image': <PIL.Image.Image image mode=RGB size=1654x2339>},\n",
       " {'doc_id': 0,\n",
       "  'page_num': 11,\n",
       "  'image': <PIL.Image.Image image mode=RGB size=1654x2339>},\n",
       " {'doc_id': 0,\n",
       "  'page_num': 12,\n",
       "  'image': <PIL.Image.Image image mode=RGB size=1654x2339>},\n",
       " {'doc_id': 0,\n",
       "  'page_num': 13,\n",
       "  'image': <PIL.Image.Image image mode=RGB size=1654x2339>},\n",
       " {'doc_id': 0,\n",
       "  'page_num': 14,\n",
       "  'image': <PIL.Image.Image image mode=RGB size=1654x2339>},\n",
       " {'doc_id': 0,\n",
       "  'page_num': 15,\n",
       "  'image': <PIL.Image.Image image mode=RGB size=1654x2339>},\n",
       " {'doc_id': 0,\n",
       "  'page_num': 16,\n",
       "  'image': <PIL.Image.Image image mode=RGB size=1654x2339>},\n",
       " {'doc_id': 0,\n",
       "  'page_num': 17,\n",
       "  'image': <PIL.Image.Image image mode=RGB size=1654x2339>},\n",
       " {'doc_id': 0,\n",
       "  'page_num': 18,\n",
       "  'image': <PIL.Image.Image image mode=RGB size=1654x2339>},\n",
       " {'doc_id': 0,\n",
       "  'page_num': 19,\n",
       "  'image': <PIL.Image.Image image mode=RGB size=1654x2339>},\n",
       " {'doc_id': 0,\n",
       "  'page_num': 20,\n",
       "  'image': <PIL.Image.Image image mode=RGB size=1654x2339>},\n",
       " {'doc_id': 0,\n",
       "  'page_num': 21,\n",
       "  'image': <PIL.Image.Image image mode=RGB size=1654x2339>},\n",
       " {'doc_id': 0,\n",
       "  'page_num': 22,\n",
       "  'image': <PIL.Image.Image image mode=RGB size=1654x2339>},\n",
       " {'doc_id': 0,\n",
       "  'page_num': 23,\n",
       "  'image': <PIL.Image.Image image mode=RGB size=1654x2339>},\n",
       " {'doc_id': 1,\n",
       "  'page_num': 0,\n",
       "  'image': <PIL.Image.Image image mode=RGB size=1166x1654>},\n",
       " {'doc_id': 1,\n",
       "  'page_num': 1,\n",
       "  'image': <PIL.Image.Image image mode=RGB size=1166x1654>},\n",
       " {'doc_id': 1,\n",
       "  'page_num': 2,\n",
       "  'image': <PIL.Image.Image image mode=RGB size=1166x1654>},\n",
       " {'doc_id': 1,\n",
       "  'page_num': 3,\n",
       "  'image': <PIL.Image.Image image mode=RGB size=1166x1654>},\n",
       " {'doc_id': 1,\n",
       "  'page_num': 4,\n",
       "  'image': <PIL.Image.Image image mode=RGB size=1166x1654>},\n",
       " {'doc_id': 1,\n",
       "  'page_num': 5,\n",
       "  'image': <PIL.Image.Image image mode=RGB size=1166x1654>},\n",
       " {'doc_id': 1,\n",
       "  'page_num': 6,\n",
       "  'image': <PIL.Image.Image image mode=RGB size=1166x1654>},\n",
       " {'doc_id': 1,\n",
       "  'page_num': 7,\n",
       "  'image': <PIL.Image.Image image mode=RGB size=1166x1654>},\n",
       " {'doc_id': 1,\n",
       "  'page_num': 8,\n",
       "  'image': <PIL.Image.Image image mode=RGB size=1166x1654>},\n",
       " {'doc_id': 1,\n",
       "  'page_num': 9,\n",
       "  'image': <PIL.Image.Image image mode=RGB size=1166x1654>},\n",
       " {'doc_id': 1,\n",
       "  'page_num': 10,\n",
       "  'image': <PIL.Image.Image image mode=RGB size=1166x1654>},\n",
       " {'doc_id': 1,\n",
       "  'page_num': 11,\n",
       "  'image': <PIL.Image.Image image mode=RGB size=1166x1654>},\n",
       " {'doc_id': 1,\n",
       "  'page_num': 12,\n",
       "  'image': <PIL.Image.Image image mode=RGB size=1166x1654>},\n",
       " {'doc_id': 1,\n",
       "  'page_num': 13,\n",
       "  'image': <PIL.Image.Image image mode=RGB size=1166x1654>},\n",
       " {'doc_id': 1,\n",
       "  'page_num': 14,\n",
       "  'image': <PIL.Image.Image image mode=RGB size=1166x1654>},\n",
       " {'doc_id': 1,\n",
       "  'page_num': 15,\n",
       "  'image': <PIL.Image.Image image mode=RGB size=1166x1654>},\n",
       " {'doc_id': 1,\n",
       "  'page_num': 16,\n",
       "  'image': <PIL.Image.Image image mode=RGB size=1166x1654>},\n",
       " {'doc_id': 1,\n",
       "  'page_num': 17,\n",
       "  'image': <PIL.Image.Image image mode=RGB size=1166x1654>},\n",
       " {'doc_id': 1,\n",
       "  'page_num': 18,\n",
       "  'image': <PIL.Image.Image image mode=RGB size=1166x1654>},\n",
       " {'doc_id': 1,\n",
       "  'page_num': 19,\n",
       "  'image': <PIL.Image.Image image mode=RGB size=1166x1654>},\n",
       " {'doc_id': 2,\n",
       "  'page_num': 0,\n",
       "  'image': <PIL.Image.Image image mode=RGB size=1166x1654>},\n",
       " {'doc_id': 2,\n",
       "  'page_num': 1,\n",
       "  'image': <PIL.Image.Image image mode=RGB size=1166x1654>},\n",
       " {'doc_id': 2,\n",
       "  'page_num': 2,\n",
       "  'image': <PIL.Image.Image image mode=RGB size=1166x1654>},\n",
       " {'doc_id': 2,\n",
       "  'page_num': 3,\n",
       "  'image': <PIL.Image.Image image mode=RGB size=1166x1654>},\n",
       " {'doc_id': 2,\n",
       "  'page_num': 4,\n",
       "  'image': <PIL.Image.Image image mode=RGB size=1166x1654>},\n",
       " {'doc_id': 2,\n",
       "  'page_num': 5,\n",
       "  'image': <PIL.Image.Image image mode=RGB size=1166x1654>},\n",
       " {'doc_id': 2,\n",
       "  'page_num': 6,\n",
       "  'image': <PIL.Image.Image image mode=RGB size=1166x1654>},\n",
       " {'doc_id': 2,\n",
       "  'page_num': 7,\n",
       "  'image': <PIL.Image.Image image mode=RGB size=1166x1654>},\n",
       " {'doc_id': 3,\n",
       "  'page_num': 0,\n",
       "  'image': <PIL.Image.Image image mode=RGB size=1654x2339>},\n",
       " {'doc_id': 3,\n",
       "  'page_num': 1,\n",
       "  'image': <PIL.Image.Image image mode=RGB size=1654x2339>},\n",
       " {'doc_id': 3,\n",
       "  'page_num': 2,\n",
       "  'image': <PIL.Image.Image image mode=RGB size=1654x2339>},\n",
       " {'doc_id': 3,\n",
       "  'page_num': 3,\n",
       "  'image': <PIL.Image.Image image mode=RGB size=1654x2339>},\n",
       " {'doc_id': 3,\n",
       "  'page_num': 4,\n",
       "  'image': <PIL.Image.Image image mode=RGB size=1654x2339>},\n",
       " {'doc_id': 3,\n",
       "  'page_num': 5,\n",
       "  'image': <PIL.Image.Image image mode=RGB size=1654x2339>},\n",
       " {'doc_id': 3,\n",
       "  'page_num': 6,\n",
       "  'image': <PIL.Image.Image image mode=RGB size=1654x2339>},\n",
       " {'doc_id': 3,\n",
       "  'page_num': 7,\n",
       "  'image': <PIL.Image.Image image mode=RGB size=1654x2339>},\n",
       " {'doc_id': 3,\n",
       "  'page_num': 8,\n",
       "  'image': <PIL.Image.Image image mode=RGB size=1654x2339>},\n",
       " {'doc_id': 3,\n",
       "  'page_num': 9,\n",
       "  'image': <PIL.Image.Image image mode=RGB size=1654x2339>},\n",
       " {'doc_id': 3,\n",
       "  'page_num': 10,\n",
       "  'image': <PIL.Image.Image image mode=RGB size=1654x2339>},\n",
       " {'doc_id': 3,\n",
       "  'page_num': 11,\n",
       "  'image': <PIL.Image.Image image mode=RGB size=1654x2339>},\n",
       " {'doc_id': 3,\n",
       "  'page_num': 12,\n",
       "  'image': <PIL.Image.Image image mode=RGB size=1654x2339>},\n",
       " {'doc_id': 3,\n",
       "  'page_num': 13,\n",
       "  'image': <PIL.Image.Image image mode=RGB size=1654x2339>},\n",
       " {'doc_id': 3,\n",
       "  'page_num': 14,\n",
       "  'image': <PIL.Image.Image image mode=RGB size=1654x2339>},\n",
       " {'doc_id': 3,\n",
       "  'page_num': 15,\n",
       "  'image': <PIL.Image.Image image mode=RGB size=1654x2339>},\n",
       " {'doc_id': 3,\n",
       "  'page_num': 16,\n",
       "  'image': <PIL.Image.Image image mode=RGB size=1654x2339>},\n",
       " {'doc_id': 3,\n",
       "  'page_num': 17,\n",
       "  'image': <PIL.Image.Image image mode=RGB size=1654x2339>},\n",
       " {'doc_id': 3,\n",
       "  'page_num': 18,\n",
       "  'image': <PIL.Image.Image image mode=RGB size=1654x2339>},\n",
       " {'doc_id': 3,\n",
       "  'page_num': 19,\n",
       "  'image': <PIL.Image.Image image mode=RGB size=1654x2339>},\n",
       " {'doc_id': 3,\n",
       "  'page_num': 20,\n",
       "  'image': <PIL.Image.Image image mode=RGB size=1654x2339>},\n",
       " {'doc_id': 3,\n",
       "  'page_num': 21,\n",
       "  'image': <PIL.Image.Image image mode=RGB size=1654x2339>},\n",
       " {'doc_id': 3,\n",
       "  'page_num': 22,\n",
       "  'image': <PIL.Image.Image image mode=RGB size=1654x2339>},\n",
       " {'doc_id': 3,\n",
       "  'page_num': 23,\n",
       "  'image': <PIL.Image.Image image mode=RGB size=1654x2339>},\n",
       " {'doc_id': 3,\n",
       "  'page_num': 24,\n",
       "  'image': <PIL.Image.Image image mode=RGB size=1654x2339>},\n",
       " {'doc_id': 3,\n",
       "  'page_num': 25,\n",
       "  'image': <PIL.Image.Image image mode=RGB size=1654x2339>},\n",
       " {'doc_id': 3,\n",
       "  'page_num': 26,\n",
       "  'image': <PIL.Image.Image image mode=RGB size=1654x2339>},\n",
       " {'doc_id': 3,\n",
       "  'page_num': 27,\n",
       "  'image': <PIL.Image.Image image mode=RGB size=1654x2339>},\n",
       " {'doc_id': 4,\n",
       "  'page_num': 0,\n",
       "  'image': <PIL.Image.Image image mode=RGB size=1654x2339>},\n",
       " {'doc_id': 4,\n",
       "  'page_num': 1,\n",
       "  'image': <PIL.Image.Image image mode=RGB size=1654x2339>},\n",
       " {'doc_id': 4,\n",
       "  'page_num': 2,\n",
       "  'image': <PIL.Image.Image image mode=RGB size=1654x2339>},\n",
       " {'doc_id': 4,\n",
       "  'page_num': 3,\n",
       "  'image': <PIL.Image.Image image mode=RGB size=1654x2339>},\n",
       " {'doc_id': 4,\n",
       "  'page_num': 4,\n",
       "  'image': <PIL.Image.Image image mode=RGB size=1654x2339>},\n",
       " {'doc_id': 4,\n",
       "  'page_num': 5,\n",
       "  'image': <PIL.Image.Image image mode=RGB size=1654x2339>},\n",
       " {'doc_id': 4,\n",
       "  'page_num': 6,\n",
       "  'image': <PIL.Image.Image image mode=RGB size=1654x2339>},\n",
       " {'doc_id': 4,\n",
       "  'page_num': 7,\n",
       "  'image': <PIL.Image.Image image mode=RGB size=1654x2339>},\n",
       " {'doc_id': 4,\n",
       "  'page_num': 8,\n",
       "  'image': <PIL.Image.Image image mode=RGB size=1654x2339>},\n",
       " {'doc_id': 4,\n",
       "  'page_num': 9,\n",
       "  'image': <PIL.Image.Image image mode=RGB size=1654x2339>},\n",
       " {'doc_id': 4,\n",
       "  'page_num': 10,\n",
       "  'image': <PIL.Image.Image image mode=RGB size=1654x2339>},\n",
       " {'doc_id': 4,\n",
       "  'page_num': 11,\n",
       "  'image': <PIL.Image.Image image mode=RGB size=1654x2339>},\n",
       " {'doc_id': 4,\n",
       "  'page_num': 12,\n",
       "  'image': <PIL.Image.Image image mode=RGB size=1654x2339>},\n",
       " {'doc_id': 4,\n",
       "  'page_num': 13,\n",
       "  'image': <PIL.Image.Image image mode=RGB size=1654x2339>},\n",
       " {'doc_id': 4,\n",
       "  'page_num': 14,\n",
       "  'image': <PIL.Image.Image image mode=RGB size=1654x2339>},\n",
       " {'doc_id': 4,\n",
       "  'page_num': 15,\n",
       "  'image': <PIL.Image.Image image mode=RGB size=1654x2339>}]"
      ]
     },
     "execution_count": 16,
     "metadata": {},
     "output_type": "execute_result"
    }
   ],
   "source": [
    "dataset"
   ]
  },
  {
   "cell_type": "code",
   "execution_count": 17,
   "metadata": {},
   "outputs": [
    {
     "name": "stdout",
     "output_type": "stream",
     "text": [
      "Generating embeddings and storing in Qdrant...\n"
     ]
    },
    {
     "name": "stderr",
     "output_type": "stream",
     "text": [
      "Indexing Progress: 100%|██████████| 96/96 [06:02<00:00,  3.78s/it]"
     ]
    },
    {
     "name": "stdout",
     "output_type": "stream",
     "text": [
      "Indexing complete!\n"
     ]
    },
    {
     "name": "stderr",
     "output_type": "stream",
     "text": [
      "\n"
     ]
    }
   ],
   "source": [
    "\n",
    "BATCH_SIZE = 4\n",
    "print(\"Generating embeddings and storing in Qdrant...\")\n",
    "\n",
    "with tqdm(total=len(dataset), desc=\"Indexing Progress\") as pbar:\n",
    "    for i in range(0, len(dataset), BATCH_SIZE):\n",
    "        batch = dataset[i : i + BATCH_SIZE]\n",
    "\n",
    "        # Extract images\n",
    "        images = [item[\"image\"] for item in batch]\n",
    "\n",
    "        # Process and encode images\n",
    "        with torch.no_grad():\n",
    "            batch_images = colpali_processor.process_images(images).to(colpali_model.device)\n",
    "            image_embeddings = colpali_model(**batch_images)\n",
    "\n",
    "        # Prepare points for Qdrant\n",
    "        points = []\n",
    "        for j, embedding in enumerate(image_embeddings):\n",
    "            points.append(\n",
    "                models.PointStruct(\n",
    "                    id=i + j,  # Use the batch index as the ID\n",
    "                    vector=embedding.tolist(),  # Convert to list\n",
    "                    payload={\n",
    "                        \"doc_id\": batch[j][\"doc_id\"],\n",
    "                        \"page_num\": batch[j][\"page_num\"],\n",
    "                        \"source\": \"pdf archive\",\n",
    "                    },  \n",
    "                )\n",
    "            )\n",
    "\n",
    "        # Upload points to Qdrant\n",
    "        try:\n",
    "            client.upsert(collection_name=COLLECTION_NAME, points=points)\n",
    "        except Exception as e:\n",
    "            print(f\"Error during upsert: {e}\")\n",
    "            continue\n",
    "\n",
    "        # Update the progress bar\n",
    "        pbar.update(BATCH_SIZE)\n",
    "\n",
    "print(\"Indexing complete!\")"
   ]
  },
  {
   "cell_type": "code",
   "execution_count": 18,
   "metadata": {},
   "outputs": [
    {
     "name": "stdout",
     "output_type": "stream",
     "text": [
      "Time taken = 0.104 s\n"
     ]
    }
   ],
   "source": [
    "query_text = \"How many people are needed to assemble the Malm?\"\n",
    "\n",
    "with torch.no_grad():\n",
    "    text_embedding = colpali_processor.process_queries([query_text]).to(colpali_model.device)  \n",
    "    text_embedding = colpali_model(**text_embedding)\n",
    "\n",
    "token_query = text_embedding[0].cpu().float().numpy().tolist()\n",
    "\n",
    "start_time = time.time()\n",
    "\n",
    "query_result = client.query_points(collection_name=COLLECTION_NAME,\n",
    "                                   query=token_query,\n",
    "                                   limit=5,\n",
    "                                   search_params=models.SearchParams(\n",
    "                                   quantization=models.QuantizationSearchParams(\n",
    "                                   ignore=True,\n",
    "                                   rescore=True,\n",
    "                                   oversampling=2.0\n",
    "                                   )\n",
    "                               )\n",
    "                           )\n",
    "\n",
    "print(f\"Time taken = {(time.time()-start_time):.3f} s\")\n"
   ]
  },
  {
   "cell_type": "code",
   "execution_count": 19,
   "metadata": {},
   "outputs": [
    {
     "data": {
      "text/plain": [
       "[ScoredPoint(id=52, version=13, score=13.890652, payload={'doc_id': 3, 'page_num': 0, 'source': 'pdf archive'}, vector=None, shard_key=None, order_value=None),\n",
       " ScoredPoint(id=54, version=13, score=11.503966, payload={'doc_id': 3, 'page_num': 2, 'source': 'pdf archive'}, vector=None, shard_key=None, order_value=None),\n",
       " ScoredPoint(id=92, version=23, score=11.354334, payload={'doc_id': 4, 'page_num': 12, 'source': 'pdf archive'}, vector=None, shard_key=None, order_value=None),\n",
       " ScoredPoint(id=21, version=5, score=11.313353, payload={'doc_id': 0, 'page_num': 21, 'source': 'pdf archive'}, vector=None, shard_key=None, order_value=None),\n",
       " ScoredPoint(id=18, version=4, score=11.164216, payload={'doc_id': 0, 'page_num': 18, 'source': 'pdf archive'}, vector=None, shard_key=None, order_value=None)]"
      ]
     },
     "execution_count": 19,
     "metadata": {},
     "output_type": "execute_result"
    }
   ],
   "source": [
    "query_result.points"
   ]
  },
  {
   "cell_type": "code",
   "execution_count": 20,
   "metadata": {},
   "outputs": [
    {
     "name": "stdout",
     "output_type": "stream",
     "text": [
      "✅ Saved: matched_images/match_doc_3_page_0.png\n",
      "✅ Saved: matched_images/match_doc_3_page_2.png\n",
      "✅ Saved: matched_images/match_doc_4_page_12.png\n",
      "✅ Saved: matched_images/match_doc_0_page_21.png\n",
      "✅ Saved: matched_images/match_doc_0_page_18.png\n",
      "\n",
      "📂 All matched images are saved in the 'matched_images' folder.\n"
     ]
    }
   ],
   "source": [
    "# Define a folder to save matched images\n",
    "MATCHED_IMAGES_DIR = \"matched_images\"\n",
    "\n",
    "# Delete all files and the directory itself if it exists\n",
    "if os.path.exists(MATCHED_IMAGES_DIR):\n",
    "    shutil.rmtree(MATCHED_IMAGES_DIR)\n",
    "\n",
    "os.makedirs(MATCHED_IMAGES_DIR)\n",
    "\n",
    "# Extract matched images from dataset based on query_result\n",
    "matched_images = []\n",
    "matched_images_path = []\n",
    "\n",
    "for result in query_result.points:\n",
    "    doc_id = result.payload[\"doc_id\"]\n",
    "    page_num = result.payload[\"page_num\"]\n",
    "\n",
    "    # Find the matching image in dataset\n",
    "    for item in dataset:\n",
    "        if item[\"doc_id\"] == doc_id and item[\"page_num\"] == page_num:\n",
    "            matched_images.append(item[\"image\"])\n",
    "            \n",
    "            # Save the matched image\n",
    "            image_filename = os.path.join(MATCHED_IMAGES_DIR, f\"match_doc_{doc_id}_page_{page_num}.png\")\n",
    "            item[\"image\"].save(image_filename, \"PNG\")\n",
    "            matched_images_path.append(image_filename)\n",
    "            print(f\"✅ Saved: {image_filename}\")\n",
    "            \n",
    "            break  \n",
    "\n",
    "print(\"\\n📂 All matched images are saved in the 'matched_images' folder.\")\n"
   ]
  },
  {
   "cell_type": "markdown",
   "metadata": {},
   "source": [
    "<h1 style=\"background: linear-gradient(to right, #ff6b6b, #4ecdc4); \n",
    "           color: white; \n",
    "           padding: 20px; \n",
    "           border-radius: 10px; \n",
    "           text-align: center; \n",
    "           font-family: Arial, sans-serif; \n",
    "           text-shadow: 2px 2px 4px rgba(0,0,0,0.5);\">\n",
    "  Visualizing the matched images\n",
    "</h1>"
   ]
  },
  {
   "cell_type": "code",
   "execution_count": 21,
   "metadata": {},
   "outputs": [],
   "source": [
    "\n",
    "def display_image_grid(images, num_cols=5, figsize=(15, 10)):\n",
    "    \"\"\"\n",
    "    Display a grid of images using matplotlib.\n",
    "    \n",
    "    Args:\n",
    "        images: List of images to display\n",
    "        num_cols: Number of columns in the grid (default: 8)\n",
    "        figsize: Figure size as tuple (width, height) (default: (15, 10))\n",
    "    \"\"\"\n",
    "    num_images = len(images)\n",
    "    num_rows = (num_images + num_cols - 1) // num_cols  # Calculate needed rows\n",
    "    \n",
    "    fig, axes = plt.subplots(num_rows, num_cols, figsize=figsize)\n",
    "    axes = axes.flat  # Flatten axes array for easier iteration\n",
    "    \n",
    "    # Display images\n",
    "    for i in range(num_cols * num_rows):\n",
    "        ax = axes[i]\n",
    "        if i < num_images:\n",
    "            ax.imshow(images[i])\n",
    "        ax.axis(\"off\")\n",
    "        \n",
    "    plt.tight_layout()\n",
    "    plt.show()"
   ]
  },
  {
   "cell_type": "code",
   "execution_count": 22,
   "metadata": {},
   "outputs": [
    {
     "data": {
      "image/png": "[encoded data removed]",
      "text/plain": [
       "<Figure size 1500x1000 with 5 Axes>"
      ]
     },
     "metadata": {},
     "output_type": "display_data"
    }
   ],
   "source": [
    "display_image_grid(matched_images)"
   ]
  },
  {
   "cell_type": "code",
   "execution_count": 23,
   "metadata": {},
   "outputs": [],
   "source": [
    "def read_and_encode_image(image_path: str):\n",
    "\n",
    "    with open(image_path, 'rb') as image_file:\n",
    "        image_bytes = image_file.read()\n",
    "        \n",
    "    image_format = Image.open(image_path).format.lower()\n",
    "\n",
    "    message_content = {\n",
    "                    \"image\": {\n",
    "                        \"format\": image_format,\n",
    "                        \"source\": {\"bytes\": image_bytes},\n",
    "                    }\n",
    "                }\n",
    "    \n",
    "    return message_content\n",
    "\n",
    "\n",
    "def send_images_to_model_using_converse(matched_items: list, query: str, model_id: str):\n",
    "\n",
    "    system_prompt = 'You are a helpful assistant for question answering. Given the context, answer the question. Do not include any other text than the answer.'\n",
    "\n",
    "    image_list = []\n",
    "    for image_path in matched_items:\n",
    "        image_list.append({\n",
    "            \"image_path\": image_path, \n",
    "        })\n",
    "\n",
    "    content_list = []\n",
    "    for img in image_list:\n",
    "        message_content = read_and_encode_image(img['image_path'])\n",
    "        content_list.append(message_content)\n",
    "    \n",
    "    content_list.append({\"text\": query})\n",
    "    system = [ { \"text\": system_prompt } ]\n",
    "    \n",
    "    # Define a \"user\" message including both the image and a text prompt.\n",
    "    messages = [\n",
    "        {\n",
    "            \"role\": \"user\",\n",
    "            \"content\": content_list,\n",
    "        }\n",
    "    ]\n",
    "    \n",
    "    # Configure the inference parameters.\n",
    "    inf_params = {\"temperature\": .3, \"maxTokens\": 5000}\n",
    "    \n",
    "    # Initialize the Bedrock client\n",
    "    client = boto3.client('bedrock-runtime', region_name='us-east-1')\n",
    "\n",
    "    response = client.converse(\n",
    "        modelId=model_id, \n",
    "        messages=messages,\n",
    "        system=system, \n",
    "        inferenceConfig=inf_params\n",
    "    )\n",
    "    \n",
    "    # Print Response\n",
    "    output_message = response[\"output\"][\"message\"][\"content\"][0][\"text\"]\n",
    "\n",
    "    return output_message"
   ]
  },
  {
   "cell_type": "code",
   "execution_count": 24,
   "metadata": {},
   "outputs": [
    {
     "name": "stderr",
     "output_type": "stream",
     "text": [
      "/opt/anaconda3/envs/rag_env2/lib/python3.12/site-packages/botocore/auth.py:419: DeprecationWarning: datetime.datetime.utcnow() is deprecated and scheduled for removal in a future version. Use timezone-aware objects to represent datetimes in UTC: datetime.datetime.now(datetime.UTC).\n",
      "  datetime_now = datetime.datetime.utcnow()\n"
     ]
    },
    {
     "name": "stdout",
     "output_type": "stream",
     "text": [
      "2 people are needed to assemble the Malm, as shown in the bottom right image on page 3.\n"
     ]
    }
   ],
   "source": [
    "PRO_MODEL_ID = \"amazon.nova-pro-v1:0\"\n",
    "LITE_MODEL_ID = \"amazon.nova-lite-v1:0\"\n",
    "MICRO_MODEL_ID = \"amazon.nova-micro-v1:0\"\n",
    "\n",
    "response = send_images_to_model_using_converse(matched_items=matched_images_path, query=query_text, model_id=PRO_MODEL_ID)\n",
    "print(response)"
   ]
  },
  {
   "cell_type": "markdown",
   "metadata": {},
   "source": [
    "<h1 style=\"background: linear-gradient(to right, #ff6b6b, #4ecdc4); \n",
    "           color: white; \n",
    "           padding: 20px; \n",
    "           border-radius: 10px; \n",
    "           text-align: center; \n",
    "           font-family: Arial, sans-serif; \n",
    "           text-shadow: 2px 2px 4px rgba(0,0,0,0.5);\">\n",
    "  Use the Knowledge Base with Agents using CrewAI\n",
    "</h1>"
   ]
  },
  {
   "cell_type": "code",
   "execution_count": 25,
   "metadata": {},
   "outputs": [
    {
     "name": "stderr",
     "output_type": "stream",
     "text": [
      "/opt/anaconda3/envs/rag_env2/lib/python3.12/site-packages/crewai_tools/tools/base_tool.py:93: PydanticDeprecatedSince20: The `schema` method is deprecated; use `model_json_schema` instead. Deprecated in Pydantic V2.0 to be removed in V3.0. See Pydantic V2 Migration Guide at https://errors.pydantic.dev/2.10/migration/\n",
      "  for arg, attribute in self.args_schema.schema()[\"properties\"].items():\n",
      "/opt/anaconda3/envs/rag_env2/lib/python3.12/site-packages/langchain_core/tools/structured.py:54: PydanticDeprecatedSince20: The `schema` method is deprecated; use `model_json_schema` instead. Deprecated in Pydantic V2.0 to be removed in V3.0. See Pydantic V2 Migration Guide at https://errors.pydantic.dev/2.10/migration/\n",
      "  return self.args_schema.schema()[\"properties\"]\n",
      "/opt/anaconda3/envs/rag_env2/lib/python3.12/site-packages/langchain_core/tools/structured.py:54: PydanticDeprecatedSince20: The `schema` method is deprecated; use `model_json_schema` instead. Deprecated in Pydantic V2.0 to be removed in V3.0. See Pydantic V2 Migration Guide at https://errors.pydantic.dev/2.10/migration/\n",
      "  return self.args_schema.schema()[\"properties\"]\n"
     ]
    }
   ],
   "source": [
    "# ---------------------- Initialize CrewAI LLM (Amazon Nova Pro) ----------------------\n",
    "model_id = \"us.amazon.nova-pro-v1:0\"  \n",
    "llm = LLM(model=model_id)\n",
    "\n",
    "# ---------------------- Create a Retrieval Tool ----------------------\n",
    "@tool\n",
    "def retrieve_from_qdrant(query: str):\n",
    "    \"\"\"\n",
    "    Retrieve the most relevant documents from Qdrant vector database\n",
    "    based on the given text query.\n",
    "    \n",
    "    Args:\n",
    "        query (str): The user query to search in the knowledge base.\n",
    "    \n",
    "    Returns:\n",
    "        list: List of paths to the matched images.\n",
    "    \"\"\"\n",
    "    global client, COLLECTION_NAME, colpali_processor, colpali_model\n",
    "\n",
    "    print(f\"🔍 Retrieving documents for query: {query}\")\n",
    "    \n",
    "    with torch.no_grad():\n",
    "        text_embedding = colpali_processor.process_queries([query]).to(colpali_model.device)  \n",
    "        text_embedding = colpali_model(**text_embedding)\n",
    "\n",
    "    token_query = text_embedding[0].cpu().float().numpy().tolist()\n",
    "    start_time = time.time()\n",
    "\n",
    "    # Perform search in Qdrant\n",
    "    query_result = client.query_points(\n",
    "        collection_name=COLLECTION_NAME,\n",
    "        query=token_query,\n",
    "        limit=5,\n",
    "        search_params=models.SearchParams(\n",
    "            quantization=models.QuantizationSearchParams(\n",
    "                ignore=True,\n",
    "                rescore=True,\n",
    "                oversampling=2.0\n",
    "            )\n",
    "        )\n",
    "    )\n",
    "\n",
    "    print(f\"⏳ Query Time: {(time.time()-start_time):.3f} s\")\n",
    "\n",
    "    matched_images_path = []\n",
    "\n",
    "    for result in query_result.points:\n",
    "        doc_id = result.payload[\"doc_id\"]\n",
    "        page_num = result.payload[\"page_num\"]\n",
    "\n",
    "        for item in dataset:\n",
    "            if item[\"doc_id\"] == doc_id and item[\"page_num\"] == page_num:\n",
    "                image_filename = os.path.join(\"matched_images\", f\"match_doc_{doc_id}_page_{page_num}.png\")\n",
    "                item[\"image\"].save(image_filename, \"PNG\")\n",
    "                matched_images_path.append(image_filename)\n",
    "\n",
    "                print(f\"✅ Saved: {image_filename}\")\n",
    "                break  \n",
    "\n",
    "    print(\"\\n📂 All matched images are saved in the 'matched_images' folder.\")\n",
    "    \n",
    "    return matched_images_path\n",
    "\n",
    "# ---------------------- Define the Retrieval Agent ----------------------\n",
    "retrieval_agent = Agent(\n",
    "    role=\"Knowledge Retriever\",\n",
    "    goal=\"Retrieve the most relevant images from the knowledge base based on the query.\",\n",
    "    backstory=\"An AI librarian with expertise in technical documentation, diagrams, and manuals.\",\n",
    "    tools=[retrieve_from_qdrant],  # ✅ Uses the retrieval tool\n",
    "    allow_delegation=False,\n",
    "    verbose=True,\n",
    "    llm=llm\n",
    ")\n",
    "\n",
    "# ---------------------- Define the Multimodal Answering Agent ----------------------\n",
    "answering_agent = Agent(\n",
    "    role=\"Multimodal Knowledge Expert\",\n",
    "    goal=f\"Accurately interpret the provided images and extract relevant information to answer the question: {{query_text}}.\",\n",
    "    backstory=\"An advanced AI specialized in multimodal reasoning, capable of analyzing both text and images to provide the most precise and insightful answers.\",\n",
    "    multimodal=True,  # ✅ Enables multimodal processing\n",
    "    allow_delegation=False,\n",
    "    verbose=True,\n",
    "    llm=llm\n",
    ")\n",
    "\n",
    "# ---------------------- Define the Tasks ----------------------\n",
    "retrieval_task = Task(\n",
    "    description=\"Retrieve the most relevant images from the knowledge base based on the given query.\",\n",
    "    agent=retrieval_agent,  # Assign retrieval agent\n",
    "    expected_output=\"A list of image file paths related to the query.\"\n",
    ")\n",
    "\n",
    "qa_task = Task(\n",
    "    description=\"Using the retrieved images at {{matched_images_path}}, generate a precise answer to the query: {{query_text}}.\",\n",
    "    agent=answering_agent,  # Assign answering agent\n",
    "    expected_output=\"A clear and well-structured explanation based on the extracted information from the images. No need to include reference to the images in the answer.\",\n",
    ")\n",
    "\n",
    "# ---------------------- Assemble the Crew ----------------------\n",
    "crew = Crew(\n",
    "    agents=[retrieval_agent, answering_agent],\n",
    "    tasks=[retrieval_task, qa_task],  \n",
    "    process=Process.sequential,\n",
    "    verbose=False\n",
    ")\n"
   ]
  },
  {
   "cell_type": "code",
   "execution_count": 26,
   "metadata": {},
   "outputs": [
    {
     "name": "stderr",
     "output_type": "stream",
     "text": [
      "/opt/anaconda3/envs/rag_env2/lib/python3.12/site-packages/langchain_core/tools/structured.py:54: PydanticDeprecatedSince20: The `schema` method is deprecated; use `model_json_schema` instead. Deprecated in Pydantic V2.0 to be removed in V3.0. See Pydantic V2 Migration Guide at https://errors.pydantic.dev/2.10/migration/\n",
      "  return self.args_schema.schema()[\"properties\"]\n",
      "/opt/anaconda3/envs/rag_env2/lib/python3.12/site-packages/langchain_core/tools/structured.py:54: PydanticDeprecatedSince20: The `schema` method is deprecated; use `model_json_schema` instead. Deprecated in Pydantic V2.0 to be removed in V3.0. See Pydantic V2 Migration Guide at https://errors.pydantic.dev/2.10/migration/\n",
      "  return self.args_schema.schema()[\"properties\"]\n"
     ]
    },
    {
     "name": "stdout",
     "output_type": "stream",
     "text": [
      "\u001b[1m\u001b[95m# Agent:\u001b[00m \u001b[1m\u001b[92mKnowledge Retriever\u001b[00m\n",
      "\u001b[95m## Task:\u001b[00m \u001b[92mRetrieve the most relevant images from the knowledge base based on the given query.\u001b[00m\n"
     ]
    },
    {
     "name": "stderr",
     "output_type": "stream",
     "text": [
      "/opt/anaconda3/envs/rag_env2/lib/python3.12/site-packages/crewai/tools/tool_usage.py:162: PydanticDeprecatedSince20: The `schema` method is deprecated; use `model_json_schema` instead. Deprecated in Pydantic V2.0 to be removed in V3.0. See Pydantic V2 Migration Guide at https://errors.pydantic.dev/2.10/migration/\n",
      "  acceptable_args = tool.args_schema.schema()[\"properties\"].keys()  # type: ignore # Item \"None\" of \"type[BaseModel] | None\" has no attribute \"schema\"\n",
      "/opt/anaconda3/envs/rag_env2/lib/python3.12/site-packages/langchain_core/tools/base.py:424: PydanticDeprecatedSince20: The `parse_obj` method is deprecated; use `model_validate` instead. Deprecated in Pydantic V2.0 to be removed in V3.0. See Pydantic V2 Migration Guide at https://errors.pydantic.dev/2.10/migration/\n",
      "  result = input_args.parse_obj(tool_input)\n",
      "/opt/anaconda3/envs/rag_env2/lib/python3.12/site-packages/langchain_core/tools/base.py:427: PydanticDeprecatedSince20: The `dict` method is deprecated; use `model_dump` instead. Deprecated in Pydantic V2.0 to be removed in V3.0. See Pydantic V2 Migration Guide at https://errors.pydantic.dev/2.10/migration/\n",
      "  for k, v in result.dict().items()\n"
     ]
    },
    {
     "name": "stdout",
     "output_type": "stream",
     "text": [
      "🔍 Retrieving documents for query: network topology diagrams\n",
      "⏳ Query Time: 0.067 s\n",
      "✅ Saved: matched_images/match_doc_1_page_18.png\n",
      "✅ Saved: matched_images/match_doc_3_page_13.png\n",
      "✅ Saved: matched_images/match_doc_2_page_1.png\n",
      "✅ Saved: matched_images/match_doc_4_page_12.png\n",
      "✅ Saved: matched_images/match_doc_4_page_6.png\n",
      "\n",
      "📂 All matched images are saved in the 'matched_images' folder.\n",
      "\n",
      "\n",
      "\u001b[1m\u001b[95m# Agent:\u001b[00m \u001b[1m\u001b[92mKnowledge Retriever\u001b[00m\n",
      "\u001b[95m## Thought:\u001b[00m \u001b[92mThought: I need to retrieve the most relevant images from the knowledge base based on the given query. I will use the `retrieve_from_qdrant` tool to search for the images.\u001b[00m\n",
      "\u001b[95m## Using tool:\u001b[00m \u001b[92mretrieve_from_qdrant\u001b[00m\n",
      "\u001b[95m## Tool Input:\u001b[00m \u001b[92m\n",
      "\"{\\\"query\\\": \\\"network topology diagrams\\\"}\"\u001b[00m\n",
      "\u001b[95m## Tool Output:\u001b[00m \u001b[92m\n",
      "['matched_images/match_doc_1_page_18.png', 'matched_images/match_doc_3_page_13.png', 'matched_images/match_doc_2_page_1.png', 'matched_images/match_doc_4_page_12.png', 'matched_images/match_doc_4_page_6.png']\u001b[00m\n",
      "\n",
      "\n",
      "\u001b[1m\u001b[95m# Agent:\u001b[00m \u001b[1m\u001b[92mKnowledge Retriever\u001b[00m\n",
      "\u001b[95m## Final Answer:\u001b[00m \u001b[92m\n",
      "['matched_images/match_doc_1_page_18.png', 'matched_images/match_doc_3_page_13.png', 'matched_images/match_doc_2_page_1.png', 'matched_images/match_doc_4_page_12.png', 'matched_images/match_doc_4_page_6.png']\u001b[00m\n",
      "\n",
      "\n",
      "\u001b[1m\u001b[95m# Agent:\u001b[00m \u001b[1m\u001b[92mMultimodal Knowledge Expert\u001b[00m\n",
      "\u001b[95m## Task:\u001b[00m \u001b[92mUsing the retrieved images at {matched_images_path}, generate a precise answer to the query: {query_text}.\u001b[00m\n",
      "\n",
      "\n",
      "\u001b[1m\u001b[95m# Agent:\u001b[00m \u001b[1m\u001b[92mMultimodal Knowledge Expert\u001b[00m\n",
      "\u001b[95m## Final Answer:\u001b[00m \u001b[92m\n",
      "Based on the analysis of the provided images, the assembly of the Malm typically requires two people. This conclusion is drawn from the complexity of the assembly process depicted in the images, which includes handling large panels and securing multiple components. The instructions and diagrams suggest that having an additional person to hold pieces in place while the other person screws or fits them together would make the process more efficient and safer.\u001b[00m\n",
      "\n",
      "\n"
     ]
    }
   ],
   "source": [
    "# ---------------------- Run the Query ----------------------\n",
    "query_text = \"How many people are needed to assemble the Malm?\"\n",
    "result = crew.kickoff(inputs={\"query_text\": query_text})"
   ]
  },
  {
   "cell_type": "code",
   "execution_count": 27,
   "metadata": {},
   "outputs": [
    {
     "data": {
      "text/markdown": [
       "Based on the analysis of the provided images, the assembly of the Malm typically requires two people. This conclusion is drawn from the complexity of the assembly process depicted in the images, which includes handling large panels and securing multiple components. The instructions and diagrams suggest that having an additional person to hold pieces in place while the other person screws or fits them together would make the process more efficient and safer."
      ],
      "text/plain": [
       "<IPython.core.display.Markdown object>"
      ]
     },
     "execution_count": 27,
     "metadata": {},
     "output_type": "execute_result"
    }
   ],
   "source": [
    "Markdown(result.raw)"
   ]
  },
  {
   "cell_type": "code",
   "execution_count": null,
   "metadata": {},
   "outputs": [],
   "source": []
  }
 ],
 "metadata": {
  "kernelspec": {
   "display_name": "rag_env2",
   "language": "python",
   "name": "python3"
  },
  "language_info": {
   "codemirror_mode": {
    "name": "ipython",
    "version": 3
   },
   "file_extension": ".py",
   "mimetype": "text/x-python",
   "name": "python",
   "nbconvert_exporter": "python",
   "pygments_lexer": "ipython3",
   "version": "3.12.9"
  }
 },
 "nbformat": 4,
 "nbformat_minor": 2
}
